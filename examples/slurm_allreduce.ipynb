{
 "cells": [
  {
   "cell_type": "code",
   "execution_count": null,
   "id": "c443b989-5a71-455f-9a59-9963338634ec",
   "metadata": {},
   "outputs": [
    {
     "name": "stderr",
     "output_type": "stream",
     "text": [
      "<string>:8: FutureWarning: Setting `workspace='/home/ubuntu/ahmads/monarch/examples'` is deprecated.\n",
      "torchx.schedulers.slurm_scheduler 2025-08-29 20:35:31 INFO unable to get job info for `monarch-ubuntu` with `squeue` (squeue: error: Invalid job id: monarch-ubuntu\n",
      "), trying `sacct`\n",
      "torchx.schedulers.slurm_scheduler 2025-08-29 20:35:32 INFO unable to get job info for `monarch-ubuntu` with `sacct` (sacct: fatal: Bad job/step specified: monarch-ubuntu\n",
      ")\n",
      "monarch.tools.commands 2025-08-29 20:35:32 INFO no existing RUNNING server `slurm:///monarch-ubuntu` creating new one...\n",
      "torchx.runner.api 2025-08-29 20:35:32 INFO Tracker configurations: {}\n",
      "torchx.runner.api 2025-08-29 20:35:32 INFO Checking for changes in workspace `/home/ubuntu/.monarch/out/tmp2xm5x59b/workspace`...\n",
      "torchx.runner.api 2025-08-29 20:35:32 INFO To disable workspaces pass: --workspace=\"\" from CLI or workspace=None programmatically.\n",
      "torchx.runner.api 2025-08-29 20:35:32 INFO Reusing original image `monarch_default_workspace:latest` for role[0]=mesh0. Either a patch was built or no changes to workspace was detected.\n",
      "monarch.tools.commands 2025-08-29 20:35:32 INFO created new `slurm:///406` waiting for it to be ready...\n"
     ]
    },
    {
     "name": "stdout",
     "output_type": "stream",
     "text": [
      "Ahmad: {'requeue': None, 'ntasks-per-node': '1', 'cpus-per-task': '48', 'mem': '186777', 'gpus-per-task': '4', 'ntasks': '1'}\n",
      "Ahmad: {'requeue': None, 'ntasks-per-node': '1', 'cpus-per-task': '48', 'mem': '186777', 'gpus-per-task': '4', 'ntasks': '1'}\n",
      "Waiting for slurm:///406 to be RUNNING (current: PENDING); will check again in 5.0 seconds. Total wait time: 0:00:00.016434\r"
     ]
    },
    {
     "name": "stderr",
     "output_type": "stream",
     "text": [
      "slurm.utils 2025-08-29 20:35:37 INFO \n",
      "===== Server Info =====\n",
      "{\n",
      "  \"name\": \"406\",\n",
      "  \"server_handle\": \"slurm:///406\",\n",
      "  \"state\": \"RUNNING\",\n",
      "  \"meshes\": {\n",
      "    \"mesh0\": {\n",
      "      \"host_type\": \"__UNSET__\",\n",
      "      \"hosts\": 2,\n",
      "      \"gpus\": -1,\n",
      "      \"hostnames\": [\n",
      "        \"gpu-queue-st-gpu-compute-1\",\n",
      "        \"gpu-queue-st-gpu-compute-2\"\n",
      "      ]\n",
      "    }\n",
      "  }\n",
      "}\n",
      "__main__ 2025-08-29 20:35:37 INFO computing world size...\n",
      "monarch._src.actor.allocator 2025-08-29 20:35:37 INFO no match label `procmesh.monarch.meta.com/name` specified in alloc constraints\n",
      "monarch._src.actor.allocator 2025-08-29 20:35:37 INFO found a single proc mesh `mesh0` in slurm:///406, will allocate on it\n",
      "monarch.tools.network 2025-08-29 20:35:37 INFO no AF_INET6 address that can bind TCP sockets for `gpu-queue-st-gpu-compute-1:26600` (error: [Errno -5] No address associated with hostname)\n",
      "monarch.tools.network 2025-08-29 20:35:37 INFO resolved AF_INET address `10.0.2.236:26600` for `gpu-queue-st-gpu-compute-1:26600`\n",
      "monarch.tools.network 2025-08-29 20:35:37 INFO no AF_INET6 address that can bind TCP sockets for `gpu-queue-st-gpu-compute-2:26600` (error: [Errno -5] No address associated with hostname)\n",
      "monarch.tools.network 2025-08-29 20:35:37 INFO resolved AF_INET address `10.0.2.132:26600` for `gpu-queue-st-gpu-compute-2:26600`\n",
      "monarch._src.actor.allocator 2025-08-29 20:35:37 INFO initializing alloc on remote allocator addresses: ['tcp!10.0.2.236:26600', 'tcp!10.0.2.132:26600']\n",
      "monarch._src.actor.allocator 2025-08-29 20:35:37 INFO no match label `procmesh.monarch.meta.com/name` specified in alloc constraints\n",
      "monarch._src.actor.allocator 2025-08-29 20:35:37 INFO found a single proc mesh `mesh0` in slurm:///406, will allocate on it\n",
      "monarch.tools.network 2025-08-29 20:35:37 INFO no AF_INET6 address that can bind TCP sockets for `gpu-queue-st-gpu-compute-1:26600` (error: [Errno -5] No address associated with hostname)\n",
      "monarch.tools.network 2025-08-29 20:35:37 INFO resolved AF_INET address `10.0.2.236:26600` for `gpu-queue-st-gpu-compute-1:26600`\n",
      "monarch.tools.network 2025-08-29 20:35:37 INFO no AF_INET6 address that can bind TCP sockets for `gpu-queue-st-gpu-compute-2:26600` (error: [Errno -5] No address associated with hostname)\n",
      "monarch.tools.network 2025-08-29 20:35:37 INFO resolved AF_INET address `10.0.2.132:26600` for `gpu-queue-st-gpu-compute-2:26600`\n",
      "monarch._src.actor.allocator 2025-08-29 20:35:37 INFO initializing alloc on remote allocator addresses: ['tcp!10.0.2.236:26600', 'tcp!10.0.2.132:26600']\n"
     ]
    },
    {
     "name": "stdout",
     "output_type": "stream",
     "text": [
      "New job `slurm:///406` is ready to serve.\n"
     ]
    },
    {
     "name": "stderr",
     "output_type": "stream",
     "text": [
      "__main__ 2025-08-29 20:35:44 INFO computed world_sizes:\n",
      "    ----------------------------------------\n",
      "    {\n",
      "  \"rank_0\": 8,\n",
      "  \"rank_1\": 8,\n",
      "  \"rank_2\": 8,\n",
      "  \"rank_3\": 8,\n",
      "  \"rank_4\": 8,\n",
      "  \"rank_5\": 8,\n",
      "  \"rank_6\": 8,\n",
      "  \"rank_7\": 8\n",
      "}\n",
      "    ----------------------------------------\n"
     ]
    },
    {
     "name": "stdout",
     "output_type": "stream",
     "text": [
      "\u001b[36m>>> Aggregated Logs (2025-08-29 20:35:42) >>>\u001b[0m\n",
      "\u001b[33m[8 similar log lines]\u001b[0m Initializing process group `nccl`:\n",
      "\u001b[33m[8 similar log lines]\u001b[0m   MASTER_ADDR = gpu-queue-st-gpu-compute-1\n",
      "\u001b[33m[8 similar log lines]\u001b[0m   MASTER_PORT = 29500\n",
      "\u001b[33m[8 similar log lines]\u001b[0m   RANK        = 6\n",
      "\u001b[33m[8 similar log lines]\u001b[0m   WORLD_SIZE  = 8\n",
      "\u001b[36m<<< Aggregated Logs (2025-08-29 20:35:45) <<<\u001b[0m\n",
      "\n"
     ]
    }
   ],
   "source": [
    "# (c) Meta Platforms, Inc. and affiliates. Confidential and proprietary.\n",
    "\n",
    "# @noautodeps\n",
    "# pyre-ignore-all-errors\n",
    "import json\n",
    "import logging\n",
    "\n",
    "from monarch.tools import commands\n",
    "from example_actors.compute_world_size_actor import TestActor\n",
    "from slurm.utils import get_appdef, get_server_info, create_proc_mesh\n",
    "\n",
    "\n",
    "logging.basicConfig(\n",
    "    level=logging.INFO,\n",
    "    format=\"%(name)s %(asctime)s %(levelname)s %(message)s\",\n",
    "    datefmt=\"%Y-%m-%d %H:%M:%S\",\n",
    "    force=True,\n",
    ")\n",
    "\n",
    "\n",
    "logger: logging.Logger = logging.getLogger(__name__)\n",
    "\n",
    "\n",
    "async def main():\n",
    "    num_hosts = 2\n",
    "    appdef = await get_appdef(num_hosts)\n",
    "    server_info = await get_server_info(appdef)\n",
    "\n",
    "    try:\n",
    "        proc_mesh = await create_proc_mesh(num_hosts, appdef, server_info)\n",
    "        actor = await proc_mesh.spawn(\"compute_world_size_actor\", TestActor)\n",
    "\n",
    "        logger.info(\"computing world size...\")\n",
    "        # this is redundant but is here for example sake\n",
    "        mesh_name = server_info.get_mesh_spec(\"mesh0\").name\n",
    "        values = await actor.compute_world_size.call(\n",
    "            master_addr=server_info.host0(mesh_name),\n",
    "            master_port=29500,\n",
    "        )\n",
    "\n",
    "        values_by_rank = {f\"rank_{p.rank}\": v for p, v in list(values.flatten(\"rank\"))}\n",
    "\n",
    "        logger.info(\n",
    "            f\"\"\"computed world_sizes:\n",
    "    {'-'*40}\n",
    "    {json.dumps(values_by_rank, indent=2)}\n",
    "    {'-'*40}\"\"\"\n",
    "        )\n",
    "    finally:\n",
    "        commands.kill(f\"slurm:///{server_info.name}\")\n",
    "\n",
    "\n",
    "if __name__ == \"__main__\":\n",
    "    await main()"
   ]
  },
  {
   "cell_type": "code",
   "execution_count": null,
   "id": "bb7fcfc7-3561-43bd-9945-278fb488e0ec",
   "metadata": {},
   "outputs": [],
   "source": []
  },
  {
   "cell_type": "code",
   "execution_count": null,
   "id": "594ac808",
   "metadata": {},
   "outputs": [],
   "source": []
  }
 ],
 "metadata": {
  "kernelspec": {
   "display_name": "ahmads-nightly4",
   "language": "python",
   "name": "python3"
  },
  "language_info": {
   "codemirror_mode": {
    "name": "ipython",
    "version": 3
   },
   "file_extension": ".py",
   "mimetype": "text/x-python",
   "name": "python",
   "nbconvert_exporter": "python",
   "pygments_lexer": "ipython3",
   "version": "3.10.18"
  }
 },
 "nbformat": 4,
 "nbformat_minor": 5
}
